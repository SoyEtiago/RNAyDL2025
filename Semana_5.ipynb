{
  "nbformat": 4,
  "nbformat_minor": 0,
  "metadata": {
    "colab": {
      "provenance": []
    },
    "kernelspec": {
      "name": "python3",
      "display_name": "Python 3"
    },
    "language_info": {
      "name": "python"
    }
  },
  "cells": [
    {
      "cell_type": "markdown",
      "source": [
        "## Importar librerias"
      ],
      "metadata": {
        "id": "PJVj5xFxlo1q"
      }
    },
    {
      "cell_type": "code",
      "execution_count": null,
      "metadata": {
        "id": "JS2Epm9GlaCx"
      },
      "outputs": [],
      "source": [
        "import numpy as np\n",
        "import matplotlib.pyplot as plt\n",
        "import keras\n",
        "import tensorflow as tf"
      ]
    },
    {
      "cell_type": "markdown",
      "source": [
        "## Setup de Tensorboard"
      ],
      "metadata": {
        "id": "G0fSkTFpr-PD"
      }
    },
    {
      "cell_type": "code",
      "source": [
        "# Clear any logs from previous runs\n",
        "!rm -rf ./logs/"
      ],
      "metadata": {
        "id": "SOxYt3OSsEbd"
      },
      "execution_count": null,
      "outputs": []
    },
    {
      "cell_type": "code",
      "source": [
        "# Cargamos la extensión\n",
        "%load_ext tensorboard"
      ],
      "metadata": {
        "id": "TdqSeKAAsRRL"
      },
      "execution_count": null,
      "outputs": []
    },
    {
      "cell_type": "markdown",
      "source": [
        "## Datos compuerta XOR"
      ],
      "metadata": {
        "id": "I_QZrNsQl-Ti"
      }
    },
    {
      "cell_type": "code",
      "source": [
        "# cargamos las 4 combinaciones de las compuertas\n",
        "training_data = np.array([[0,0],[0,1],[1,0],[1,1]], \"float32\")\n",
        "# y estos son los resultados que se obtienen, en el mismo orden\n",
        "target_data = np.array([[0],[1],[1],[0]], \"float32\")"
      ],
      "metadata": {
        "id": "ZqTuSd9imAit"
      },
      "execution_count": null,
      "outputs": []
    },
    {
      "cell_type": "markdown",
      "source": [
        "## Creación del modelo"
      ],
      "metadata": {
        "id": "oUFqwVenmbEh"
      }
    },
    {
      "cell_type": "code",
      "source": [
        "model = keras.models.Sequential(name=\"modelo_1\")\n",
        "model.add(keras.layers.Dense(4, input_dim=2, activation='relu',name=\"oculta\"))\n",
        "model.add(keras.layers.Dense(1, activation='sigmoid',name=\"salida\"))\n",
        "model.summary()"
      ],
      "metadata": {
        "id": "sKCV1dDxmdY0"
      },
      "execution_count": null,
      "outputs": []
    },
    {
      "cell_type": "markdown",
      "source": [
        "## Compilación de la RNA"
      ],
      "metadata": {
        "id": "ncdZxb3Wry8d"
      }
    },
    {
      "cell_type": "code",
      "source": [
        "model.compile(loss='mean_squared_error',\n",
        "              optimizer='adam',\n",
        "              metrics=['mse'])"
      ],
      "metadata": {
        "id": "SKxCOBB9r1rr"
      },
      "execution_count": null,
      "outputs": []
    },
    {
      "cell_type": "markdown",
      "source": [
        "## Entrenamiento de la red"
      ],
      "metadata": {
        "id": "P1Cr1VyWsfl5"
      }
    },
    {
      "cell_type": "code",
      "source": [
        "log_dir = \"logs/fit/test2\"\n",
        "tensorboard_callback = tf.keras.callbacks.TensorBoard(log_dir=log_dir, histogram_freq=1)\n",
        "model.fit(x=training_data, y=target_data, epochs=300, callbacks=[tensorboard_callback])"
      ],
      "metadata": {
        "id": "lnvtQEpBsMNy"
      },
      "execution_count": null,
      "outputs": []
    },
    {
      "cell_type": "code",
      "source": [
        "%tensorboard --logdir logs/fit"
      ],
      "metadata": {
        "id": "3shAZ616sdJD"
      },
      "execution_count": null,
      "outputs": []
    },
    {
      "cell_type": "markdown",
      "source": [
        "# Ejemplo regresión : función seno"
      ],
      "metadata": {
        "id": "IYtWXAjAutpq"
      }
    },
    {
      "cell_type": "markdown",
      "source": [
        "## Preparación del dataset"
      ],
      "metadata": {
        "id": "ZV3YQtxBu2Yu"
      }
    },
    {
      "cell_type": "code",
      "source": [
        "# cargamos las 4 combinaciones de las compuertas\n",
        "training_data = np.linspace(0,360,90)\n",
        "# y estos son los resultados que se obtienen, en el mismo orden\n",
        "target_data = np.sin(np.deg2rad(training_data))\n",
        "target_data = (target_data+1)/2\n",
        "training_data = training_data/360"
      ],
      "metadata": {
        "id": "-_o5ShDNu73V"
      },
      "execution_count": null,
      "outputs": []
    },
    {
      "cell_type": "code",
      "source": [
        "plt.plot(training_data,target_data)"
      ],
      "metadata": {
        "id": "vEmpKIVhEnRT"
      },
      "execution_count": null,
      "outputs": []
    },
    {
      "cell_type": "code",
      "source": [
        "# Creación del modelo\n",
        "model2 = keras.models.Sequential(name=\"modelo_2\")\n",
        "model2.add(keras.layers.Dense(4, input_dim=1, activation='relu',name=\"oculta\"))\n",
        "model2.add(keras.layers.Dense(1, activation='sigmoid',name=\"salida\"))\n",
        "model2.summary()"
      ],
      "metadata": {
        "id": "7UQubUD9v1Cs"
      },
      "execution_count": null,
      "outputs": []
    },
    {
      "cell_type": "code",
      "source": [
        "model2.compile(loss='mean_squared_error',\n",
        "              optimizer='adam',\n",
        "              metrics=['mse'])"
      ],
      "metadata": {
        "id": "_x4bgdq4wHXV"
      },
      "execution_count": null,
      "outputs": []
    },
    {
      "cell_type": "code",
      "source": [
        "model2.fit(x=training_data, y=target_data, epochs=300)"
      ],
      "metadata": {
        "id": "zox04K98wTZP"
      },
      "execution_count": null,
      "outputs": []
    },
    {
      "cell_type": "code",
      "source": [
        "model2.layers[0]"
      ],
      "metadata": {
        "id": "vUrYmWJoGBO5"
      },
      "execution_count": null,
      "outputs": []
    },
    {
      "cell_type": "code",
      "source": [
        "model2.layers[0].get_weights()"
      ],
      "metadata": {
        "id": "05hvkPZ8naxn"
      },
      "execution_count": null,
      "outputs": []
    },
    {
      "cell_type": "code",
      "source": [
        "model2.layers[0].get_weights()[1]"
      ],
      "metadata": {
        "id": "asZB1cCkCRjJ"
      },
      "execution_count": null,
      "outputs": []
    }
  ]
}