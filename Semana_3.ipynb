{
  "nbformat": 4,
  "nbformat_minor": 0,
  "metadata": {
    "colab": {
      "provenance": []
    },
    "kernelspec": {
      "name": "python3",
      "display_name": "Python 3"
    },
    "language_info": {
      "name": "python"
    }
  },
  "cells": [
    {
      "cell_type": "markdown",
      "source": [
        "# Introducción a entrenamiento supervisado\n",
        "# Ejemplo perceptrón simple"
      ],
      "metadata": {
        "id": "WubfnVdmQnvC"
      }
    },
    {
      "cell_type": "markdown",
      "source": [
        "## Importando librerias"
      ],
      "metadata": {
        "id": "BGjOQ97OR7SE"
      }
    },
    {
      "cell_type": "code",
      "execution_count": null,
      "metadata": {
        "id": "G1Kv61NoOXEa"
      },
      "outputs": [],
      "source": [
        "import numpy as np\n",
        "import matplotlib.pyplot as plt"
      ]
    },
    {
      "cell_type": "markdown",
      "source": [
        "# Preparación de datos de entrada y etiquetas (salida deseada)"
      ],
      "metadata": {
        "id": "MNMaIAioR-q1"
      }
    },
    {
      "cell_type": "code",
      "source": [
        "# @title Ejemplo de una compuerta logica AND\n",
        "x = np.array([[0,0],[0,1],[1,0],[1,1]])\n",
        "y = np.array([0,0,0,1])\n",
        "for i in range(4):\n",
        "  if y[i]==0:\n",
        "    plt.plot(x[i,0],x[i,1],'ro')\n",
        "  else:\n",
        "    plt.plot(x[i,0],x[i,1],'go')\n",
        "plt.grid()\n",
        "plt.title(\"Compuerta logica AND\")\n",
        "plt.show()"
      ],
      "metadata": {
        "id": "LxDgfsCKRzV3"
      },
      "execution_count": null,
      "outputs": []
    },
    {
      "cell_type": "markdown",
      "source": [
        "# Definición de hiperparametros\n",
        "\n",
        "\n",
        "*   alpha: Tasa de aprendizaje\n",
        "*   epsilon: Umbral de error\n",
        "*   N: Número de epocas. Total de iteraciones\n",
        "\n"
      ],
      "metadata": {
        "id": "mtINt5yST7Ik"
      }
    },
    {
      "cell_type": "code",
      "source": [
        "alpha = 0.1\n",
        "epsilon = 0.005\n",
        "N = 500"
      ],
      "metadata": {
        "id": "Tvx8vRrHSzGV"
      },
      "execution_count": null,
      "outputs": []
    },
    {
      "cell_type": "markdown",
      "source": [
        "# Inicialización de parametros (pesos sinapticos)\n",
        "\n",
        "Para este ejemplo se utilizaran los pesos y el bias en matrices separadas"
      ],
      "metadata": {
        "id": "4WVej6avUyn2"
      }
    },
    {
      "cell_type": "code",
      "source": [
        "w = np.random.rand(2)\n",
        "b = np.random.rand(1)"
      ],
      "metadata": {
        "id": "JuCRMC0uUmPC"
      },
      "execution_count": null,
      "outputs": []
    },
    {
      "cell_type": "code",
      "source": [
        "# @title Grafica separación (valores iniciales)\n",
        "x_1 = np.linspace(0,1,10)\n",
        "x_2 = (w[0]*x_1+b)/(-w[1])\n",
        "plt.plot(x_1,x_2,'b--')\n",
        "\n",
        "for i in range(4):\n",
        "  if y[i]==0:\n",
        "    plt.plot(x[i,0],x[i,1],'ro')\n",
        "  else:\n",
        "    plt.plot(x[i,0],x[i,1],'go')\n",
        "plt.grid()\n",
        "plt.show()"
      ],
      "metadata": {
        "id": "n04BX3zoa1mt"
      },
      "execution_count": null,
      "outputs": []
    },
    {
      "cell_type": "code",
      "source": [
        "w"
      ],
      "metadata": {
        "id": "JR6AGri-2Ecm"
      },
      "execution_count": null,
      "outputs": []
    },
    {
      "cell_type": "code",
      "source": [
        "b"
      ],
      "metadata": {
        "id": "o7pM8PKd2JZd"
      },
      "execution_count": null,
      "outputs": []
    },
    {
      "cell_type": "markdown",
      "source": [
        "# Entrenamiento"
      ],
      "metadata": {
        "id": "4Akt6cJGW80d"
      }
    },
    {
      "cell_type": "code",
      "source": [
        "# @title Feedforward\n",
        "def feedforward(X,W,b,fun='linear'):\n",
        "  neta = np.dot(W,X.T)+b\n",
        "  if fun=='linear':\n",
        "    return neta\n",
        "  elif fun == 'sigmoid':\n",
        "    return sigmoid(neta)\n",
        "  elif fun == 'tanh':\n",
        "    return tanh(neta)\n",
        "  elif fun == 'relu':\n",
        "    return relu(neta)\n",
        "  elif fun == 'step':\n",
        "    return step(neta)\n",
        "  else:\n",
        "    print(\"No se identifica la función de activación especificada, se establece por defecto función lineal\")\n",
        "    return neta"
      ],
      "metadata": {
        "id": "Qm8u4sToWz6q"
      },
      "execution_count": null,
      "outputs": []
    },
    {
      "cell_type": "code",
      "source": [
        "print(\"esto es x:\",x)\n",
        "print(\"esto es w:\",w)"
      ],
      "metadata": {
        "id": "Rjj4k4Xw3OSY"
      },
      "execution_count": null,
      "outputs": []
    },
    {
      "cell_type": "code",
      "source": [
        "# @title Funciones de activación\n",
        "def sigmoid(x):\n",
        "    \"\"\"Función de activación Sigmoid.\"\"\"\n",
        "    return 1 / (1 + np.exp(-x))\n",
        "\n",
        "def tanh(x):\n",
        "    \"\"\"Función de activación Tanh.\"\"\"\n",
        "    return np.tanh(x)\n",
        "\n",
        "def relu(x):\n",
        "    \"\"\"Función de activación ReLU.\"\"\"\n",
        "    return np.maximum(0, x)\n",
        "def step(x):\n",
        "    \"\"\"Función de activación Step.\"\"\"\n",
        "    return x>=0\n"
      ],
      "metadata": {
        "id": "D4MH28D9ZwMP"
      },
      "execution_count": null,
      "outputs": []
    },
    {
      "cell_type": "markdown",
      "source": [
        "# Ciclo de entrenamiento"
      ],
      "metadata": {
        "id": "RnV8N5zyaOtC"
      }
    },
    {
      "cell_type": "code",
      "source": [
        "for i in range(N-1):\n",
        "  # Feedforward\n",
        "  salida = feedforward(x,w,b,'step')\n",
        "\n",
        "  # Calculo del error\n",
        "  error = y - salida\n",
        "\n",
        "  # Actualización de pesos\n",
        "  w_old = w\n",
        "  b_old = b\n",
        "  w = w_old + alpha*np.dot(error,x)\n",
        "  b = b_old + alpha*np.dot(error,np.ones((4,1)))\n",
        "\n",
        "  # Condiciones de parada\n",
        "  # La primer condición es el número de epocas\n",
        "  # La segunda condición se presenta cuando la actualización de los pesos no es significativa\n",
        "  pesos_old=np.concatenate((w_old,b_old))\n",
        "  pesos=np.concatenate((w,b))\n",
        "  if np.linalg.norm(pesos-pesos_old)<=epsilon:\n",
        "    print(\"converge en la iteración:\",i)\n",
        "    break"
      ],
      "metadata": {
        "id": "-AxaFguyaHLq"
      },
      "execution_count": null,
      "outputs": []
    },
    {
      "cell_type": "code",
      "source": [
        "# @title Grafica separación (red entrenada)\n",
        "x_1 = np.linspace(0,1,10)\n",
        "x_2 = (w[0]*x_1+b)/(-w[1])\n",
        "plt.plot(x_1,x_2,'b--')\n",
        "\n",
        "for i in range(4):\n",
        "  if y[i]==0:\n",
        "    plt.plot(x[i,0],x[i,1],'ro')\n",
        "  else:\n",
        "    plt.plot(x[i,0],x[i,1],'go')\n",
        "plt.grid()\n",
        "plt.show()"
      ],
      "metadata": {
        "id": "7JBskMKKoG0o"
      },
      "execution_count": null,
      "outputs": []
    },
    {
      "cell_type": "markdown",
      "source": [
        "# Ejercicio de practica\n",
        "\n",
        "Codifique un nuevo modelo de perceptrón simple teniendo como datos de entrada una nube de puntos que cumpla las siguientes condiciones:\n",
        "\n",
        "* La nube esta compuesta por 100 puntos, distribuidos en 4 grupos centrados en las posiones [0,0], [1,0], [0,1], [1,1], con una distribución estandar de 0.25\n",
        "* La salida deseada para cada punto corresponde a su respuesta para una compuerta logica OR, es decir, los puntos del primer grupo se espera una salida de 0 y para los demas se espera una salida de 1"
      ],
      "metadata": {
        "id": "7yebHmZ4u-fX"
      }
    },
    {
      "cell_type": "markdown",
      "source": [
        "# Ejercicio de practica 2\n",
        "\n",
        "Plantee el mismo escenario anterior (ejemplo o ejercicio) considerando la salida para una compuerta logica XOR"
      ],
      "metadata": {
        "id": "iKb4gYyn8jae"
      }
    }
  ]
}